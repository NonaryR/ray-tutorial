{
 "cells": [
  {
   "cell_type": "markdown",
   "metadata": {},
   "source": [
    "# Exercise 6 - Process Tasks in Order of Completion\n",
    "\n",
    "**GOAL:** The goal of this exercise is to show how to use `ray.wait` to process tasks in the order that they finish.\n",
    "\n",
    "See the documentation for ray.wait at http://ray.readthedocs.io/en/latest/api.html#waiting-for-a-subset-of-tasks-to-finish.\n",
    "\n",
    "The code below runs 10 tasks and retrieves the results in the order that the tasks were launched. However, since each task takes a random amount of time to finish, we could instead process the tasks in the order that they finish."
   ]
  },
  {
   "cell_type": "code",
   "execution_count": 1,
   "metadata": {},
   "outputs": [],
   "source": [
    "from __future__ import absolute_import\n",
    "from __future__ import division\n",
    "from __future__ import print_function\n",
    "\n",
    "import numpy as np\n",
    "import ray\n",
    "import time"
   ]
  },
  {
   "cell_type": "code",
   "execution_count": 2,
   "metadata": {},
   "outputs": [
    {
     "name": "stdout",
     "output_type": "stream",
     "text": [
      "Waiting for redis server at 127.0.0.1:15123 to respond...\n",
      "Waiting for redis server at 127.0.0.1:20382 to respond...\n",
      "Starting local scheduler with 5 CPUs, 0 GPUs\n",
      "\n",
      "======================================================================\n",
      "View the web UI at http://localhost:8891/notebooks/ray_ui59731.ipynb?token=a027916a6cc3d38c9e440d0016362d420c28b929f7f10077\n",
      "======================================================================\n",
      "\n"
     ]
    },
    {
     "data": {
      "text/plain": [
       "{'local_scheduler_socket_names': ['/tmp/scheduler65144554'],\n",
       " 'node_ip_address': '127.0.0.1',\n",
       " 'object_store_addresses': [ObjectStoreAddress(name='/tmp/plasma_store90797388', manager_name='/tmp/plasma_manager92935720', manager_port=36299)],\n",
       " 'redis_address': '127.0.0.1:15123',\n",
       " 'webui_url': 'http://localhost:8891/notebooks/ray_ui59731.ipynb?token=a027916a6cc3d38c9e440d0016362d420c28b929f7f10077'}"
      ]
     },
     "execution_count": 2,
     "metadata": {},
     "output_type": "execute_result"
    }
   ],
   "source": [
    "ray.init(num_cpus=5, redirect_output=True)"
   ]
  },
  {
   "cell_type": "code",
   "execution_count": 3,
   "metadata": {},
   "outputs": [],
   "source": [
    "@ray.remote\n",
    "def f():\n",
    "    time.sleep(np.random.uniform(0, 5))\n",
    "    return time.time()"
   ]
  },
  {
   "cell_type": "markdown",
   "metadata": {},
   "source": [
    "**EXERCISE:** Change the code below to use `ray.wait` to get the results of the tasks in the order that they complete.\n",
    "\n",
    "**NOTE:** It would be a simple modification to maintain a pool of 10 experiments and to start a new experiment whenever one finishes."
   ]
  },
  {
   "cell_type": "code",
   "execution_count": 4,
   "metadata": {},
   "outputs": [
    {
     "ename": "NameError",
     "evalue": "name 'result_ids' is not defined",
     "output_type": "error",
     "traceback": [
      "\u001b[0;31m---------------------------------------------------------------------------\u001b[0m",
      "\u001b[0;31mNameError\u001b[0m                                 Traceback (most recent call last)",
      "\u001b[0;32m<ipython-input-4-114bdb379674>\u001b[0m in \u001b[0;36m<module>\u001b[0;34m()\u001b[0m\n\u001b[0;32m----> 1\u001b[0;31m \u001b[0mray\u001b[0m\u001b[0;34m.\u001b[0m\u001b[0mwait\u001b[0m\u001b[0;34m(\u001b[0m\u001b[0mresult_ids\u001b[0m\u001b[0;34m,\u001b[0m \u001b[0mnum_returns\u001b[0m\u001b[0;34m=\u001b[0m\u001b[0mlen\u001b[0m\u001b[0;34m(\u001b[0m\u001b[0mresult_ids\u001b[0m\u001b[0;34m)\u001b[0m\u001b[0;34m)\u001b[0m\u001b[0;34m\u001b[0m\u001b[0m\n\u001b[0m",
      "\u001b[0;31mNameError\u001b[0m: name 'result_ids' is not defined"
     ]
    }
   ],
   "source": [
    "ray.wait(result_ids, num_returns=len(result_ids))"
   ]
  },
  {
   "cell_type": "code",
   "execution_count": 5,
   "metadata": {},
   "outputs": [
    {
     "name": "stdout",
     "output_type": "stream",
     "text": [
      "Processing result which finished after 0.39975500106811523 seconds. [ObjectID(eb746ac0f732421c73a1905a2a56bf0990b0ea96)]\n",
      "Processing result which finished after 1.9497718811035156 seconds. [ObjectID(bf15f2d51c301c739a6f0cc1599396bfb8e7dd40)]\n",
      "Processing result which finished after 1.9497718811035156 seconds. [ObjectID(bf15f2d51c301c739a6f0cc1599396bfb8e7dd40)]\n",
      "Processing result which finished after 1.9497718811035156 seconds. [ObjectID(bf15f2d51c301c739a6f0cc1599396bfb8e7dd40)]\n",
      "Processing result which finished after 1.9497718811035156 seconds. [ObjectID(bf15f2d51c301c739a6f0cc1599396bfb8e7dd40)]\n",
      "Processing result which finished after 3.538628101348877 seconds. [ObjectID(cf18fe13620c90c44987ba28eeed5f0a96fe12a8)]\n",
      "Processing result which finished after 3.538628101348877 seconds. [ObjectID(cf18fe13620c90c44987ba28eeed5f0a96fe12a8)]\n",
      "Processing result which finished after 3.6061460971832275 seconds. [ObjectID(99c2d35125916ae63f64c2e7c2c8dfeb41d72acd)]\n",
      "Processing result which finished after 6.9397361278533936 seconds. [ObjectID(b38c2cb13f49c5a127b78697fc5b9154a918ce40)]\n",
      "Processing result which finished after 6.9397361278533936 seconds. [ObjectID(b38c2cb13f49c5a127b78697fc5b9154a918ce40)]\n"
     ]
    }
   ],
   "source": [
    "# Sleep a little to improve the accuracy of the timing measurements below.\n",
    "time.sleep(2.0)\n",
    "start_time = time.time()\n",
    "\n",
    "result_ids = [f.remote() for _ in range(10)]\n",
    "\n",
    "# Get the results.\n",
    "results = []\n",
    "while len(result_ids) >= 1:\n",
    "    result_w, remaining = ray.wait(result_ids) # two lists\n",
    "    result = ray.get(result_w)[0]\n",
    "    results.append(result)\n",
    "    print('Processing result which finished after {} seconds. {}'.format(result - start_time, result_w))\n",
    "    result_ids = result_ids[1:]\n",
    "    \n",
    "end_time = time.time()\n",
    "duration = end_time - start_time"
   ]
  },
  {
   "cell_type": "markdown",
   "metadata": {},
   "source": [
    "**VERIFY:** Run some checks to verify that the changes you made to the code were correct. Some of the checks should fail when you initially run the cells. After completing the exercises, the checks should pass."
   ]
  },
  {
   "cell_type": "code",
   "execution_count": 6,
   "metadata": {},
   "outputs": [
    {
     "name": "stdout",
     "output_type": "stream",
     "text": [
      "Success! The example took 6.941716909408569 seconds.\n"
     ]
    }
   ],
   "source": [
    "assert results == sorted(results), ('The results were not processed in the '\n",
    "                                    'order that they finished.')\n",
    "\n",
    "print('Success! The example took {} seconds.'.format(duration))"
   ]
  },
  {
   "cell_type": "code",
   "execution_count": null,
   "metadata": {},
   "outputs": [],
   "source": []
  }
 ],
 "metadata": {
  "kernelspec": {
   "display_name": "Python 3",
   "language": "python",
   "name": "python3"
  },
  "language_info": {
   "codemirror_mode": {
    "name": "ipython",
    "version": 3
   },
   "file_extension": ".py",
   "mimetype": "text/x-python",
   "name": "python",
   "nbconvert_exporter": "python",
   "pygments_lexer": "ipython3",
   "version": "3.6.2"
  }
 },
 "nbformat": 4,
 "nbformat_minor": 2
}
